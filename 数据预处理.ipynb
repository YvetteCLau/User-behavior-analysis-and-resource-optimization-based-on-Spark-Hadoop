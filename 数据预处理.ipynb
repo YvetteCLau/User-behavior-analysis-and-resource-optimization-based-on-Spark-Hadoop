{
 "cells": [
  {
   "cell_type": "markdown",
   "id": "b90ba11e",
   "metadata": {},
   "source": [
    "1.导入必要的库"
   ]
  },
  {
   "cell_type": "code",
   "execution_count": 3,
   "id": "f9feebdd",
   "metadata": {},
   "outputs": [],
   "source": [
    "import pandas as pd\n",
    "import numpy as np\n",
    "import matplotlib.pyplot as plt\n",
    "from datetime import datetime\n",
    "import os"
   ]
  },
  {
   "cell_type": "markdown",
   "id": "f6656ac6",
   "metadata": {},
   "source": [
    "2.数据读取与整合"
   ]
  },
  {
   "cell_type": "markdown",
   "id": "bff27422",
   "metadata": {},
   "source": [
    "2.1 读取门禁数据"
   ]
  },
  {
   "cell_type": "code",
   "execution_count": 4,
   "id": "87962839",
   "metadata": {},
   "outputs": [],
   "source": [
    "# 门禁数据路径\n",
    "entry_files = [\n",
    "    \"mj20140901-20150831.txt\", \n",
    "    \"mj20150901-20160831.txt\", \n",
    "    \"mj20160901-20170831.txt\", \n",
    "    \"mj20170901-20180831.txt\"\n",
    "]\n",
    "\n",
    "entry_data = []"
   ]
  },
  {
   "cell_type": "code",
   "execution_count": 5,
   "id": "8df71856",
   "metadata": {},
   "outputs": [
    {
     "name": "stdout",
     "output_type": "stream",
     "text": [
      "是否存在空值： 0\n",
      "非时间格式的值：\n",
      "         ID  VisitTime  Location\n",
      "0        ID  VisitTime  Location\n",
      "1968250  ID  VisitTime  Location\n",
      "4119015  ID  VisitTime  Location\n",
      "6415228  ID  VisitTime  Location\n",
      "门禁数据预览：\n",
      "                                 ID               VisitTime Location\n",
      "1  00AAF5172011E421E06324DC10AC52C4 2015-03-30 14:33:28.307     思明校区\n",
      "2  00AAF5171D07E421E06324DC10AC52C4 2015-03-30 14:34:55.807     思明校区\n",
      "3  00AAF5170243E421E06324DC10AC52C4 2015-03-30 14:36:29.240     思明校区\n",
      "4  00AAF516E804E421E06324DC10AC52C4 2015-03-30 14:37:36.797     思明校区\n",
      "5  00AAF5170D6DE421E06324DC10AC52C4 2015-03-30 14:38:31.170     思明校区\n"
     ]
    }
   ],
   "source": [
    "# 遍历每个文件读取数据\n",
    "for file in entry_files:\n",
    "    df = pd.read_csv(file, sep=\"\\t\", names=[\"ID\", \"VisitTime\", \"Location\"], encoding=\"utf-8\", header=None)\n",
    "    entry_data.append(df)\n",
    "\n",
    "# 合并所有门禁数据\n",
    "entry_logs = pd.concat(entry_data, ignore_index=True)\n",
    "\n",
    "# 检查空值\n",
    "print(\"是否存在空值：\", entry_logs['VisitTime'].isnull().sum())\n",
    "\n",
    "# 检查非时间格式值\n",
    "invalid_times = entry_logs[~entry_logs['VisitTime'].str.match(r'^\\d{4}-\\d{2}-\\d{2} \\d{2}:\\d{2}:\\d{2}\\.\\d{3}$')]\n",
    "print(\"非时间格式的值：\")\n",
    "print(invalid_times)\n",
    "\n",
    "# 解析时间格式\n",
    "entry_logs['VisitTime'] = pd.to_datetime(entry_logs['VisitTime'], format='%Y-%m-%d %H:%M:%S.%f', errors='coerce')\n",
    "\n",
    "# 删除解析失败的行\n",
    "entry_logs = entry_logs.dropna(subset=['VisitTime'])\n",
    "\n",
    "# 输出解析后的数据\n",
    "print(\"门禁数据预览：\")\n",
    "print(entry_logs.head())\n"
   ]
  },
  {
   "cell_type": "markdown",
   "id": "98c7494e",
   "metadata": {},
   "source": [
    "2.2 读取借阅数据"
   ]
  },
  {
   "cell_type": "code",
   "execution_count": 8,
   "id": "287e4103",
   "metadata": {},
   "outputs": [
    {
     "name": "stdout",
     "output_type": "stream",
     "text": [
      "文件 读者数据_guid.csv 检测到编码：GB2312\n",
      "文件 读者数据_guid.csv 已转换为 UTF-8 编码并保存为 读者数据_guid_utf8.csv\n",
      "文件 借阅数据_guid.csv 检测到编码：ascii\n",
      "文件 借阅数据_guid.csv 已转换为 UTF-8 编码并保存为 借阅数据_guid_utf8.csv\n",
      "文件 图书数据.csv 检测到编码：UTF-8-SIG\n",
      "文件 图书数据.csv 已转换为 UTF-8 编码并保存为 图书数据_utf8.csv\n",
      "转换失败的日期值（LendDate）：\n",
      "Empty DataFrame\n",
      "Columns: [ReaderID, BookID, LendDate, ReturnDate, RenewCounts]\n",
      "Index: []\n",
      "转换失败的日期值（ReturnDate）：\n",
      "Empty DataFrame\n",
      "Columns: [ReaderID, BookID, LendDate, ReturnDate, RenewCounts]\n",
      "Index: []\n",
      "读者数据预览：\n",
      "                                 ID Gender EnrollYear Type Department\n",
      "0  00AAF5172AB1E421E06324DC10AC52C4      M       2013  本科生        药学院\n",
      "1  00AAF516FA58E421E06324DC10AC52C4      M       2012  研究生       经济学院\n",
      "2  00AAF5170950E421E06324DC10AC52C4      M       2012  研究生      台湾研究院\n",
      "3  00AAF516D41BE421E06324DC10AC52C4      F       2011  研究生     航空航天学院\n",
      "4  00AAF516FCD4E421E06324DC10AC52C4      M       2012  研究生       经济学院\n",
      "\n",
      "借阅记录数据预览：\n",
      "                           ReaderID                            BookID  \\\n",
      "0  00AAF51729B0E421E06324DC10AC52C4  C82C3E813448FA4867CA280CFF7EF72A   \n",
      "1  00AAF51729B0E421E06324DC10AC52C4  FA0AB73B1547EFCFBEA5F2D688240111   \n",
      "2  00AAF516EF34E421E06324DC10AC52C4  22E7B7D7BA4B743C739D379EC78618F8   \n",
      "3  00AAF516EF34E421E06324DC10AC52C4  07713A2EB33A01B32038CB5D6C2FC1F0   \n",
      "4  00AAF516EF34E421E06324DC10AC52C4  C6F1DB0A6397F72F2C0343F9D2926DDC   \n",
      "\n",
      "             LendDate          ReturnDate  RenewCounts  \n",
      "0 2014-09-01 10:12:26 2014-09-18 18:53:42            0  \n",
      "1 2014-09-01 10:12:32 2014-09-18 18:53:40            0  \n",
      "2 2014-09-01 10:28:43 2014-09-09 15:13:00            0  \n",
      "3 2014-09-01 10:28:52 2014-09-02 16:57:35            0  \n",
      "4 2014-09-01 10:28:54 2014-09-09 15:13:03            0  \n",
      "\n",
      "图书数据预览：\n",
      "                                 ID  \\\n",
      "0  D32C4C992FE33C4555A9F15AFF5F8BFB   \n",
      "1  154A6D4F7F9257A6227000EF7B92D7D8   \n",
      "2  CCF202F180509D3C7ED1EB478C80F383   \n",
      "3  541595873273BEB61461CB723678B6CB   \n",
      "4  2C2D79BA0E032F9EC4020888F2E0AFED   \n",
      "\n",
      "                                               Title  \\\n",
      "0                                                 放手   \n",
      "1  San min chu i : the three principles of the pe...   \n",
      "2  Creating public value : strategic management i...   \n",
      "3                                            悲观主义的花朵   \n",
      "4                                      小企业融资理论、政策与实践   \n",
      "\n",
      "                                              Author  \\\n",
      "0                                                周琼著   \n",
      "1  by Sun Yat-sen ; [abridged and edited by the H...   \n",
      "2                                     Mark H. Moore.   \n",
      "3                                               廖一梅著   \n",
      "4                     中国银行业监督管理委员会完善小企业金融服务领导小组办公室编著   \n",
      "\n",
      "                   Publisher    Year          CallNo Language DocType  \n",
      "0                  北京十月文艺出版社  2010.0   I247.5/628.99       中文    中文图书  \n",
      "1    China Cultural Service,  2003.0    D693.0/S957C       英语    西文图书  \n",
      "2  Harvard University Press,  1995.0       D035/M823       英语    西文图书  \n",
      "3                      新星出版社  2008.0  I247.57/712.41       中文    中文图书  \n",
      "4                    中国金融出版社  2011.0  F279.243/664.4       中文    中文图书  \n"
     ]
    }
   ],
   "source": [
    "import pandas as pd\n",
    "import chardet\n",
    "from datetime import datetime\n",
    "\n",
    "# 定义一个函数将文件统一转换为 UTF-8 编码\n",
    "def convert_to_utf8(input_file, output_file):\n",
    "    \"\"\"\n",
    "    将文件编码转换为 UTF-8\n",
    "    :param input_file: 输入文件路径\n",
    "    :param output_file: 输出文件路径（转换为 UTF-8）\n",
    "    \"\"\"\n",
    "    with open(input_file, 'rb') as f:\n",
    "        raw_data = f.read()\n",
    "    # 检测文件编码\n",
    "    detected_encoding = chardet.detect(raw_data)['encoding']\n",
    "    print(f\"文件 {input_file} 检测到编码：{detected_encoding}\")\n",
    "    \n",
    "    # 读取文件并转换编码\n",
    "    with open(input_file, 'r', encoding=detected_encoding, errors='replace') as f:\n",
    "        content = f.read()\n",
    "    with open(output_file, 'w', encoding='utf-8') as f:\n",
    "        f.write(content)\n",
    "    print(f\"文件 {input_file} 已转换为 UTF-8 编码并保存为 {output_file}\")\n",
    "\n",
    "# 定义文件路径\n",
    "files_to_convert = {\n",
    "    \"读者数据_guid.csv\": \"读者数据_guid_utf8.csv\",\n",
    "    \"借阅数据_guid.csv\": \"借阅数据_guid_utf8.csv\",\n",
    "    \"图书数据.csv\": \"图书数据_utf8.csv\"\n",
    "}\n",
    "\n",
    "# 转换文件为 UTF-8 编码\n",
    "for input_file, output_file in files_to_convert.items():\n",
    "    convert_to_utf8(input_file, output_file)\n",
    "\n",
    "# 读取转换后的 UTF-8 文件\n",
    "\n",
    "# 读取读者数据\n",
    "reader_data = pd.read_csv(files_to_convert[\"读者数据_guid.csv\"], encoding=\"utf-8\")\n",
    "reader_data.columns = [\"NO\", \"ID\", \"Gender\", \"EnrollYear\", \"Type\", \"Department\"]\n",
    "reader_data = reader_data.drop(columns=[\"NO\"])\n",
    "\n",
    "# 读取借阅记录\n",
    "borrow_logs = pd.read_csv(files_to_convert[\"借阅数据_guid.csv\"], encoding=\"utf-8\")\n",
    "borrow_logs.columns = [\"NO\", \"ReaderID\", \"BookID\", \"LendDate\", \"ReturnDate\", \"RenewCounts\"]\n",
    "borrow_logs = borrow_logs.drop(columns=[\"NO\"])\n",
    "\n",
    "# 转换借阅和归还日期为 datetime 类型\n",
    "# 字段原格式为字符串，形如 \"2014-09-01 10:12:26\"\n",
    "borrow_logs[\"LendDate\"] = pd.to_datetime(borrow_logs[\"LendDate\"], format=\"%Y-%m-%d %H:%M:%S\", errors='coerce')\n",
    "borrow_logs[\"ReturnDate\"] = pd.to_datetime(borrow_logs[\"ReturnDate\"], format=\"%Y-%m-%d %H:%M:%S\", errors='coerce')\n",
    "\n",
    "# 检查是否有转换失败的值\n",
    "print(\"转换失败的日期值（LendDate）：\")\n",
    "print(borrow_logs[borrow_logs[\"LendDate\"].isnull()])\n",
    "\n",
    "print(\"转换失败的日期值（ReturnDate）：\")\n",
    "print(borrow_logs[borrow_logs[\"ReturnDate\"].isnull()])\n",
    "\n",
    "# 删除转换失败的日期值（可选）\n",
    "borrow_logs = borrow_logs.dropna(subset=[\"LendDate\", \"ReturnDate\"])\n",
    "\n",
    "# 读取图书数据\n",
    "book_data = pd.read_csv(files_to_convert[\"图书数据.csv\"], encoding=\"utf-8\")\n",
    "book_data.columns = [\"NO\", \"ID\", \"Title\", \"Author\", \"Publisher\", \"Year\", \"CallNo\", \"Language\", \"DocType\"]\n",
    "book_data = book_data.drop(columns=[\"NO\"])\n",
    "\n",
    "# 查看数据预览\n",
    "print(\"读者数据预览：\")\n",
    "print(reader_data.head())\n",
    "\n",
    "print(\"\\n借阅记录数据预览：\")\n",
    "print(borrow_logs.head())\n",
    "\n",
    "print(\"\\n图书数据预览：\")\n",
    "print(book_data.head())"
   ]
  },
  {
   "cell_type": "markdown",
   "id": "e663e0d2",
   "metadata": {},
   "source": [
    "2.3 读取座位使用数据"
   ]
  },
  {
   "cell_type": "code",
   "execution_count": 10,
   "id": "7d5cce89",
   "metadata": {},
   "outputs": [],
   "source": [
    "# 座位使用记录文件路径\n",
    "seat_files = [\n",
    "    \"20140901-20150831.txt\",\n",
    "    \"20150901-20160831.txt\",\n",
    "    \"20160901-20170831.txt\",\n",
    "    \"20170901-20180831.txt\"\n",
    "]\n",
    "\n",
    "seat_data = []"
   ]
  },
  {
   "cell_type": "code",
   "execution_count": 12,
   "id": "e3e11d36",
   "metadata": {},
   "outputs": [
    {
     "name": "stderr",
     "output_type": "stream",
     "text": [
      "C:\\Users\\Yvett\\AppData\\Local\\Temp\\ipykernel_77496\\86232910.py:4: DtypeWarning: Columns (1,2) have mixed types. Specify dtype option on import or set low_memory=False.\n",
      "  df = pd.read_csv(file, sep=\"\\t\", names=[\"ID\", \"ReadingRoomNo\", \"SeatNo\", \"SelectSeatTime\", \"LeaveSeatTime\"], encoding=\"utf-8\", header=None)\n",
      "C:\\Users\\Yvett\\AppData\\Local\\Temp\\ipykernel_77496\\86232910.py:4: DtypeWarning: Columns (1,2) have mixed types. Specify dtype option on import or set low_memory=False.\n",
      "  df = pd.read_csv(file, sep=\"\\t\", names=[\"ID\", \"ReadingRoomNo\", \"SeatNo\", \"SelectSeatTime\", \"LeaveSeatTime\"], encoding=\"utf-8\", header=None)\n",
      "C:\\Users\\Yvett\\AppData\\Local\\Temp\\ipykernel_77496\\86232910.py:4: DtypeWarning: Columns (1,2) have mixed types. Specify dtype option on import or set low_memory=False.\n",
      "  df = pd.read_csv(file, sep=\"\\t\", names=[\"ID\", \"ReadingRoomNo\", \"SeatNo\", \"SelectSeatTime\", \"LeaveSeatTime\"], encoding=\"utf-8\", header=None)\n",
      "C:\\Users\\Yvett\\AppData\\Local\\Temp\\ipykernel_77496\\86232910.py:4: DtypeWarning: Columns (1,2) have mixed types. Specify dtype option on import or set low_memory=False.\n",
      "  df = pd.read_csv(file, sep=\"\\t\", names=[\"ID\", \"ReadingRoomNo\", \"SeatNo\", \"SelectSeatTime\", \"LeaveSeatTime\"], encoding=\"utf-8\", header=None)\n"
     ]
    },
    {
     "name": "stdout",
     "output_type": "stream",
     "text": [
      "是否存在空值：\n",
      "ID                0\n",
      "ReadingRoomNo     0\n",
      "SeatNo            0\n",
      "SelectSeatTime    0\n",
      "LeaveSeatTime     0\n",
      "dtype: int64\n",
      "\n",
      "非时间格式的值（SelectSeatTime）：\n",
      "         ID  ReadingRoomNo  SeatNo  SelectSeatTime  LeaveSeatTime\n",
      "0        id  ReadingRoomNo  SeatNo  SelectSeatTime  LeaveSeatTime\n",
      "941873   ID  ReadingRoomNo  SeatNo  SelectSeatTime  LeaveSeatTime\n",
      "1941114  ID  ReadingRoomNo  SeatNo  SelectSeatTime  LeaveSeatTime\n",
      "2951769  ID  ReadingRoomNo  SeatNo  SelectSeatTime  LeaveSeatTime\n",
      "3942001  id  ReadingRoomNo  SeatNo  SelectSeatTime  LeaveSeatTime\n",
      "4883874  ID  ReadingRoomNo  SeatNo  SelectSeatTime  LeaveSeatTime\n",
      "5883115  ID  ReadingRoomNo  SeatNo  SelectSeatTime  LeaveSeatTime\n",
      "6893770  ID  ReadingRoomNo  SeatNo  SelectSeatTime  LeaveSeatTime\n",
      "\n",
      "非时间格式的值（LeaveSeatTime）：\n",
      "         ID  ReadingRoomNo  SeatNo  SelectSeatTime  LeaveSeatTime\n",
      "0        id  ReadingRoomNo  SeatNo  SelectSeatTime  LeaveSeatTime\n",
      "941873   ID  ReadingRoomNo  SeatNo  SelectSeatTime  LeaveSeatTime\n",
      "1941114  ID  ReadingRoomNo  SeatNo  SelectSeatTime  LeaveSeatTime\n",
      "2951769  ID  ReadingRoomNo  SeatNo  SelectSeatTime  LeaveSeatTime\n",
      "3942001  id  ReadingRoomNo  SeatNo  SelectSeatTime  LeaveSeatTime\n",
      "4883874  ID  ReadingRoomNo  SeatNo  SelectSeatTime  LeaveSeatTime\n",
      "5883115  ID  ReadingRoomNo  SeatNo  SelectSeatTime  LeaveSeatTime\n",
      "6893770  ID  ReadingRoomNo  SeatNo  SelectSeatTime  LeaveSeatTime\n",
      "\n",
      "解析后的座位使用数据预览：\n",
      "                                 ID ReadingRoomNo     SeatNo  \\\n",
      "1  00AAF516DF47E421E06324DC10AC52C4        000019  000019255   \n",
      "2  00AAF516DF47E421E06324DC10AC52C4        000019  000019264   \n",
      "3  00AAF516DF47E421E06324DC10AC52C4        000018  000018095   \n",
      "4  00AAF516DF47E421E06324DC10AC52C4        000019  000019260   \n",
      "5  00AAF516DF47E421E06324DC10AC52C4        000018  000018096   \n",
      "\n",
      "           SelectSeatTime           LeaveSeatTime  \n",
      "1 2015-03-21 08:58:47.353 2015-03-21 21:31:35.907  \n",
      "2 2015-03-30 11:34:38.053 2015-03-30 13:43:46.167  \n",
      "3 2015-03-14 08:38:13.893 2015-03-14 16:04:56.317  \n",
      "4 2015-03-19 08:41:38.400 2015-03-19 17:03:08.093  \n",
      "5 2015-03-10 08:57:30.770 2015-03-10 13:43:35.590  \n"
     ]
    }
   ],
   "source": [
    "# 遍历每个文件读取数据\n",
    "for file in seat_files:\n",
    "    # 读取座位使用数据\n",
    "    df = pd.read_csv(file, sep=\"\\t\", names=[\"ID\", \"ReadingRoomNo\", \"SeatNo\", \"SelectSeatTime\", \"LeaveSeatTime\"], encoding=\"utf-8\", header=None)\n",
    "    seat_data.append(df)\n",
    "\n",
    "# 合并所有座位数据\n",
    "seat_logs = pd.concat(seat_data, ignore_index=True)\n",
    "\n",
    "# 检查空值\n",
    "print(\"是否存在空值：\")\n",
    "print(seat_logs.isnull().sum())\n",
    "\n",
    "# 检查非时间格式值（SelectSeatTime 和 LeaveSeatTime）\n",
    "invalid_select_times = seat_logs[~seat_logs['SelectSeatTime'].str.match(r'^\\d{4}-\\d{2}-\\d{2} \\d{2}:\\d{2}:\\d{2}\\.\\d{3}$', na=False)]\n",
    "invalid_leave_times = seat_logs[~seat_logs['LeaveSeatTime'].str.match(r'^\\d{4}-\\d{2}-\\d{2} \\d{2}:\\d{2}:\\d{2}\\.\\d{3}$', na=False)]\n",
    "\n",
    "print(\"\\n非时间格式的值（SelectSeatTime）：\")\n",
    "print(invalid_select_times)\n",
    "\n",
    "print(\"\\n非时间格式的值（LeaveSeatTime）：\")\n",
    "print(invalid_leave_times)\n",
    "\n",
    "# 转换时间字段为 datetime 类型\n",
    "seat_logs[\"SelectSeatTime\"] = pd.to_datetime(seat_logs[\"SelectSeatTime\"], format=\"%Y-%m-%d %H:%M:%S.%f\", errors=\"coerce\")\n",
    "seat_logs[\"LeaveSeatTime\"] = pd.to_datetime(seat_logs[\"LeaveSeatTime\"], format=\"%Y-%m-%d %H:%M:%S.%f\", errors=\"coerce\")\n",
    "\n",
    "# 删除解析失败的行\n",
    "seat_logs = seat_logs.dropna(subset=[\"SelectSeatTime\", \"LeaveSeatTime\"])\n",
    "\n",
    "# 输出解析后的数据\n",
    "print(\"\\n解析后的座位使用数据预览：\")\n",
    "print(seat_logs.head())"
   ]
  },
  {
   "cell_type": "markdown",
   "id": "be95739b",
   "metadata": {},
   "source": [
    "2.4 整合所有数据"
   ]
  },
  {
   "cell_type": "code",
   "execution_count": 17,
   "id": "48d4a4e3",
   "metadata": {},
   "outputs": [
    {
     "name": "stdout",
     "output_type": "stream",
     "text": [
      "entry_logs 已成功保存为 CSV 文件：C:/Users/Yvett/PycharmProjects/pythonProject/图书馆\\entry_logs.csv\n"
     ]
    }
   ],
   "source": [
    "import os\n",
    "\n",
    "# 定义保存路径\n",
    "folder_path = \"C:/Users/Yvett/PycharmProjects/pythonProject/图书馆\"\n",
    "file_path = os.path.join(folder_path, \"entry_logs.csv\")\n",
    "\n",
    "# 检查文件夹是否存在，如果不存在则创建\n",
    "if not os.path.exists(folder_path):\n",
    "    os.makedirs(folder_path)\n",
    "    print(f\"创建文件夹：{folder_path}\")\n",
    "\n",
    "# 将 entry_logs 写入 CSV 文件\n",
    "entry_logs.to_csv(file_path, index=False, encoding=\"utf-8\")\n",
    "\n",
    "print(f\"entry_logs 已成功保存为 CSV 文件：{file_path}\")"
   ]
  },
  {
   "cell_type": "code",
   "execution_count": 18,
   "id": "9cbbe001",
   "metadata": {},
   "outputs": [
    {
     "name": "stdout",
     "output_type": "stream",
     "text": [
      "seat_logs 已成功保存为 CSV 文件：C:/Users/Yvett/PycharmProjects/pythonProject/图书馆\\seat_logs.csv\n"
     ]
    }
   ],
   "source": [
    "# 定义保存路径\n",
    "folder_path = \"C:/Users/Yvett/PycharmProjects/pythonProject/图书馆\"\n",
    "file_path = os.path.join(folder_path, \"seat_logs.csv\")\n",
    "\n",
    "# 检查文件夹是否存在，如果不存在则创建\n",
    "if not os.path.exists(folder_path):\n",
    "    os.makedirs(folder_path)\n",
    "    print(f\"创建文件夹：{folder_path}\")\n",
    "\n",
    "# 将 seat_logs 写入 CSV 文件\n",
    "seat_logs.to_csv(file_path, index=False, encoding=\"utf-8\")\n",
    "\n",
    "print(f\"seat_logs 已成功保存为 CSV 文件：{file_path}\")"
   ]
  },
  {
   "cell_type": "code",
   "execution_count": null,
   "id": "6d16bcde",
   "metadata": {},
   "outputs": [],
   "source": []
  }
 ],
 "metadata": {
  "kernelspec": {
   "display_name": "Python 3 (ipykernel)",
   "language": "python",
   "name": "python3"
  },
  "language_info": {
   "codemirror_mode": {
    "name": "ipython",
    "version": 3
   },
   "file_extension": ".py",
   "mimetype": "text/x-python",
   "name": "python",
   "nbconvert_exporter": "python",
   "pygments_lexer": "ipython3",
   "version": "3.9.13"
  }
 },
 "nbformat": 4,
 "nbformat_minor": 5
}
